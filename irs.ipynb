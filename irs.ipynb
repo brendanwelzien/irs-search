{
 "metadata": {
  "language_info": {
   "codemirror_mode": {
    "name": "ipython",
    "version": 3
   },
   "file_extension": ".py",
   "mimetype": "text/x-python",
   "name": "python",
   "nbconvert_exporter": "python",
   "pygments_lexer": "ipython3",
   "version": "3.9.2-final"
  },
  "orig_nbformat": 2,
  "kernelspec": {
   "name": "python3",
   "display_name": "Python 3.9.2 64-bit ('.venv')",
   "metadata": {
    "interpreter": {
     "hash": "a40864faedc4bbec9f6ecf7b4f7208591ec6a52158c6199c0f53d36ad63f13c7"
    }
   }
  }
 },
 "nbformat": 4,
 "nbformat_minor": 2,
 "cells": [
  {
   "cell_type": "code",
   "execution_count": 1,
   "metadata": {},
   "outputs": [],
   "source": [
    "import pandas as pd\n",
    "import urllib\n",
    "import json\n",
    "import requests\n",
    "from urllib import request\n",
    "from bs4 import BeautifulSoup\n"
   ]
  },
  {
   "cell_type": "code",
   "execution_count": 129,
   "metadata": {
    "tags": []
   },
   "outputs": [
    {
     "output_type": "stream",
     "name": "stdout",
     "text": [
      "Product Number\n",
      "Title\n",
      "Revision Date\n",
      "Product Number\n",
      "Title\n",
      "Revision Date\n"
     ]
    }
   ],
   "source": [
    "for i in range(2):\n",
    "    irs_url = 'https://apps.irs.gov/app/picklist/list/priorFormPublication.html?indexOfFirstRow=0&sortColumn=currentYearRevDate&value=form+w-2&criteria=formNumber&resultsPerPage=200&isDescending=false'\n",
    "    page=requests.get(irs_url)\n",
    "    soup=BeautifulSoup(page.text, 'lxml')\n",
    "    div = soup.find('div', {'class': 'picklistTable'})\n",
    "    table = div.find('table', {'class': 'picklist-dataTable'})\n",
    "    table_row = table.find('tr')\n",
    "    table_header = table_row.find_all('th')\n",
    "    #print(table_header)\n",
    "    for header in table_header:\n",
    "        span = header.find_all('a')\n",
    "        #print(span)\n",
    "        series= span[0].string.strip()\n",
    "        print(series)\n",
    "    \n",
    "\n",
    "\n",
    "    \n",
    "        \n",
    "\n"
   ]
  },
  {
   "cell_type": "code",
   "execution_count": null,
   "metadata": {},
   "outputs": [],
   "source": []
  }
 ]
}