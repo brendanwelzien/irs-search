{
 "metadata": {
  "language_info": {
   "codemirror_mode": {
    "name": "ipython",
    "version": 3
   },
   "file_extension": ".py",
   "mimetype": "text/x-python",
   "name": "python",
   "nbconvert_exporter": "python",
   "pygments_lexer": "ipython3",
   "version": "3.9.2-final"
  },
  "orig_nbformat": 2,
  "kernelspec": {
   "name": "python3",
   "display_name": "Python 3.9.2 64-bit ('.venv')",
   "metadata": {
    "interpreter": {
     "hash": "a40864faedc4bbec9f6ecf7b4f7208591ec6a52158c6199c0f53d36ad63f13c7"
    }
   }
  }
 },
 "nbformat": 4,
 "nbformat_minor": 2,
 "cells": [
  {
   "cell_type": "code",
   "execution_count": 1,
   "metadata": {},
   "outputs": [],
   "source": [
    "import pandas as pd\n",
    "import urllib\n",
    "import json\n",
    "import requests\n",
    "from urllib import request\n",
    "from bs4 import BeautifulSoup\n"
   ]
  },
  {
   "cell_type": "code",
   "execution_count": 30,
   "metadata": {
    "tags": []
   },
   "outputs": [
    {
     "output_type": "stream",
     "name": "stdout",
     "text": [
      "[<th class=\"FormNumber\" scope=\"col\">\n<b>\n<a href=\"/app/picklist/list/priorFormPublication.html?sortColumn=sortOrder&amp;indexOfFirstRow=0&amp;value=form+w-2&amp;criteria=formNumber&amp;resultsPerPage=200&amp;isDescending=false\n\t\t\"><span class=\"picklistColumnHeader\">Product Number</span></a>\n<a href=\"/app/picklist/list/priorFormPublication.html?sortColumn=sortOrder&amp;indexOfFirstRow=0&amp;value=form+w-2&amp;criteria=formNumber&amp;resultsPerPage=200&amp;isDescending=false\n\t\t\t\t\t\"><img alt=\"Not sorted\" src=\"/app/picklist/images/neutralArrows.gif\" title=\"Not sorted\"/></a>\n<a href=\"/app/picklist/help/formsPublicationsFormNumber.html\" onclick=\"returnLink('/app/picklist/help/formsPublicationsFormNumber.html', 520, 470); return false;\" style=\"A.help:hover; cursor:help; \" target=\"winhelp\">\n<img alt=\"Help on Publication or Notice Number\" src=\"/app/picklist/images/questionMark.gif\" title=\"Help on Publication or Notice Number\"/>\n</a>\n</b>\n</th>, <th class=\"Title\" scope=\"col\">\n<b>\n<a href=\"/app/picklist/list/priorFormPublication.html?sortColumn=title&amp;indexOfFirstRow=0&amp;value=form+w-2&amp;criteria=formNumber&amp;resultsPerPage=200&amp;isDescending=false\n\t\t\"><span class=\"picklistColumnHeader\">Title</span></a>\n<a href=\"/app/picklist/list/priorFormPublication.html?sortColumn=title&amp;indexOfFirstRow=0&amp;value=form+w-2&amp;criteria=formNumber&amp;resultsPerPage=200&amp;isDescending=false\n\t\t\t\t\t\"><img alt=\"Not sorted\" src=\"/app/picklist/images/neutralArrows.gif\" title=\"Not sorted\"/></a>\n<a href=\"/app/picklist/help/formsPublicationsTitle.html\" onclick=\"returnLink('/app/picklist/help/formsPublicationsTitle.html', 520, 470); return false;\" style=\"A.help:hover; cursor:help; \" target=\"winhelp\">\n<img alt=\"Help on Title\" src=\"/app/picklist/images/questionMark.gif\" title=\"Help on Title\"/>\n</a>\n</b>\n</th>, <th class=\"CurrentYear\" scope=\"col\">\n<b>\n<a href=\"/app/picklist/list/priorFormPublication.html?sortColumn=currentYearRevDate&amp;indexOfFirstRow=0&amp;value=form+w-2&amp;criteria=formNumber&amp;resultsPerPage=200&amp;isDescending=true\n\t\t\"><span class=\"picklistColumnHeader\">Revision Date</span></a>\n<a href=\"/app/picklist/list/priorFormPublication.html?sortColumn=currentYearRevDate&amp;indexOfFirstRow=0&amp;value=form+w-2&amp;criteria=formNumber&amp;resultsPerPage=200&amp;isDescending=true\n\t\t\t\t\t\"><img alt=\"Sorted Ascending\" src=\"/app/picklist/images/ascendingArrows.gif\" title=\"Sorted Ascending\"/></a>\n<a href=\"/app/picklist/help/formsPublicationsCurrentYearRevDate.html\" onclick=\"returnLink('/app/picklist/help/formsPublicationsCurrentYearRevDate.html', 520, 470); return false;\" style=\"A.help:hover; cursor:help; \" target=\"winhelp\">\n<img alt=\"Help on Revision Date\" src=\"/app/picklist/images/questionMark.gif\" title=\"Help on Revision Date\"/>\n</a>\n</b>\n</th>]\n[]\n[]\n[]\n[]\n[]\n[]\n[]\n[]\n[]\n[]\n[]\n[]\n[]\n[]\n[]\n[]\n[]\n[]\n[]\n[]\n[]\n[]\n[]\n[]\n[]\n[]\n[]\n[]\n[]\n[]\n[]\n[]\n[]\n[]\n[]\n[]\n[]\n[]\n[]\n[]\n[]\n[]\n[]\n[]\n[]\n[]\n[]\n[]\n[]\n[]\n[]\n[]\n[]\n[]\n[]\n[]\n[]\n[]\n[]\n[]\n[]\n[]\n[]\n[]\n[]\n[]\n[]\n[]\n[]\n[]\n[]\n[]\n[]\n[]\n[]\n[]\n[]\n[]\n[]\n[]\n[]\n[]\n[]\n[]\n[]\n[]\n[]\n[]\n[]\n[]\n[]\n[]\n[]\n[]\n[]\n[]\n[]\n[]\n[]\n[]\n[]\n[]\n[]\n[]\n[]\n[]\n[]\n[]\n[]\n[]\n[]\n[]\n[]\n[]\n[]\n[]\n[]\n[]\n[]\n[]\n[]\n[]\n[]\n[]\n[]\n[]\n[]\n[]\n[]\n[]\n[]\n[]\n[]\n[]\n[]\n[]\n[]\n[]\n[]\n[]\n[]\n[]\n[]\n[]\n[]\n[]\n[]\n[]\n[]\n[]\n[]\n[]\n[]\n[]\n[]\n[]\n[]\n[]\n[]\n[]\n[]\n[]\n[]\n[]\n[]\n[]\n[]\n[]\n[]\n[]\n[]\n[]\n[]\n[]\n[]\n[]\n[]\n[]\n[]\n[]\n[]\n[]\n[]\n[]\n[]\n[]\n[]\n[]\n[]\n[]\n[]\n[]\n[]\n[]\n[]\n[]\n[]\n[]\n[]\n[]\n[<th class=\"FormNumber\" scope=\"col\">\n<b>\n<a href=\"/app/picklist/list/priorFormPublication.html?sortColumn=sortOrder&amp;indexOfFirstRow=0&amp;value=form+w-2&amp;criteria=formNumber&amp;resultsPerPage=200&amp;isDescending=false\n\t\t\"><span class=\"picklistColumnHeader\">Product Number</span></a>\n<a href=\"/app/picklist/list/priorFormPublication.html?sortColumn=sortOrder&amp;indexOfFirstRow=0&amp;value=form+w-2&amp;criteria=formNumber&amp;resultsPerPage=200&amp;isDescending=false\n\t\t\t\t\t\"><img alt=\"Not sorted\" src=\"/app/picklist/images/neutralArrows.gif\" title=\"Not sorted\"/></a>\n<a href=\"/app/picklist/help/formsPublicationsFormNumber.html\" onclick=\"returnLink('/app/picklist/help/formsPublicationsFormNumber.html', 520, 470); return false;\" style=\"A.help:hover; cursor:help; \" target=\"winhelp\">\n<img alt=\"Help on Publication or Notice Number\" src=\"/app/picklist/images/questionMark.gif\" title=\"Help on Publication or Notice Number\"/>\n</a>\n</b>\n</th>, <th class=\"Title\" scope=\"col\">\n<b>\n<a href=\"/app/picklist/list/priorFormPublication.html?sortColumn=title&amp;indexOfFirstRow=0&amp;value=form+w-2&amp;criteria=formNumber&amp;resultsPerPage=200&amp;isDescending=false\n\t\t\"><span class=\"picklistColumnHeader\">Title</span></a>\n<a href=\"/app/picklist/list/priorFormPublication.html?sortColumn=title&amp;indexOfFirstRow=0&amp;value=form+w-2&amp;criteria=formNumber&amp;resultsPerPage=200&amp;isDescending=false\n\t\t\t\t\t\"><img alt=\"Not sorted\" src=\"/app/picklist/images/neutralArrows.gif\" title=\"Not sorted\"/></a>\n<a href=\"/app/picklist/help/formsPublicationsTitle.html\" onclick=\"returnLink('/app/picklist/help/formsPublicationsTitle.html', 520, 470); return false;\" style=\"A.help:hover; cursor:help; \" target=\"winhelp\">\n<img alt=\"Help on Title\" src=\"/app/picklist/images/questionMark.gif\" title=\"Help on Title\"/>\n</a>\n</b>\n</th>, <th class=\"CurrentYear\" scope=\"col\">\n<b>\n<a href=\"/app/picklist/list/priorFormPublication.html?sortColumn=currentYearRevDate&amp;indexOfFirstRow=0&amp;value=form+w-2&amp;criteria=formNumber&amp;resultsPerPage=200&amp;isDescending=true\n\t\t\"><span class=\"picklistColumnHeader\">Revision Date</span></a>\n<a href=\"/app/picklist/list/priorFormPublication.html?sortColumn=currentYearRevDate&amp;indexOfFirstRow=0&amp;value=form+w-2&amp;criteria=formNumber&amp;resultsPerPage=200&amp;isDescending=true\n\t\t\t\t\t\"><img alt=\"Sorted Ascending\" src=\"/app/picklist/images/ascendingArrows.gif\" title=\"Sorted Ascending\"/></a>\n<a href=\"/app/picklist/help/formsPublicationsCurrentYearRevDate.html\" onclick=\"returnLink('/app/picklist/help/formsPublicationsCurrentYearRevDate.html', 520, 470); return false;\" style=\"A.help:hover; cursor:help; \" target=\"winhelp\">\n<img alt=\"Help on Revision Date\" src=\"/app/picklist/images/questionMark.gif\" title=\"Help on Revision Date\"/>\n</a>\n</b>\n</th>]\n[]\n[]\n[]\n[]\n[]\n[]\n[]\n[]\n[]\n[]\n[]\n[]\n[]\n[]\n[]\n[]\n[]\n[]\n[]\n[]\n[]\n[]\n[]\n[]\n[]\n[]\n[]\n[]\n[]\n[]\n[]\n[]\n[]\n[]\n[]\n[]\n[]\n[]\n[]\n[]\n[]\n[]\n[]\n[]\n[]\n[]\n[]\n[]\n[]\n[]\n[]\n[]\n[]\n[]\n[]\n[]\n[]\n[]\n[]\n[]\n[]\n[]\n[]\n[]\n[]\n[]\n[]\n[]\n[]\n[]\n[]\n[]\n[]\n[]\n[]\n[]\n[]\n[]\n[]\n[]\n[]\n[]\n[]\n[]\n[]\n[]\n[]\n[]\n[]\n[]\n[]\n[]\n[]\n[]\n[]\n[]\n[]\n[]\n[]\n[]\n[]\n[]\n[]\n[]\n[]\n[]\n[]\n[]\n[]\n[]\n[]\n[]\n[]\n[]\n[]\n[]\n[]\n[]\n[]\n[]\n[]\n[]\n[]\n[]\n[]\n[]\n[]\n[]\n[]\n[]\n[]\n[]\n[]\n[]\n[]\n[]\n[]\n[]\n[]\n[]\n[]\n[]\n[]\n[]\n[]\n[]\n[]\n[]\n[]\n[]\n[]\n[]\n[]\n[]\n[]\n[]\n[]\n[]\n[]\n[]\n[]\n[]\n[]\n[]\n[]\n[]\n[]\n[]\n[]\n[]\n[]\n[]\n[]\n[]\n[]\n[]\n[]\n[]\n[]\n[]\n[]\n[]\n[]\n[]\n[]\n[]\n[]\n[]\n[]\n[]\n[]\n[]\n[]\n[]\n[]\n[]\n[]\n[]\n[]\n[]\n"
     ]
    }
   ],
   "source": [
    "for i in range(2):\n",
    "    irs_url = 'https://apps.irs.gov/app/picklist/list/priorFormPublication.html?indexOfFirstRow=0&sortColumn=currentYearRevDate&value=form+w-2&criteria=formNumber&resultsPerPage=200&isDescending=false'\n",
    "    page=requests.get(irs_url)\n",
    "    soup=BeautifulSoup(page.text, 'lxml')\n",
    "    div = soup.find('div', {'class': 'picklistTable'})\n",
    "    table = div.find('table', {'class': 'picklist-dataTable'})\n",
    "    table_row = table.find_all('tr')\n",
    "    for tr in table_row:\n",
    "        td = tr.find_all('th')\n",
    "        table_header = td.find_all('th')\n",
    "        print(table_header)\n",
    "        \n",
    "\n"
   ]
  },
  {
   "cell_type": "code",
   "execution_count": null,
   "metadata": {},
   "outputs": [],
   "source": []
  },
  {
   "cell_type": "code",
   "execution_count": null,
   "metadata": {},
   "outputs": [],
   "source": []
  }
 ]
}